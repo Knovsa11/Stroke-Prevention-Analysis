{
 "cells": [
  {
   "cell_type": "code",
   "execution_count": 1,
   "metadata": {},
   "outputs": [
    {
     "data": {
      "text/plain": [
       "'\\n=================================================\\nMilestone 1\\n\\nNama  : Kelvin Rizky Novsa\\nBatch : RMT-028\\n\\nAnalisa ini digunakan untuk mengatasi tingkat kematian akibat penyakit stroke  berdasarkan faktor-faktor yang memengaruhi dan strategi pencegahan penyakit stroke di Indonesia. Adapun dataset yang digunakan bersumber dari kaggle dengan nama dataset \"Stroke Prediction Dataset\". Dengan menganalisis faktor-faktor yang memengaruhi tersebut dan mengimplementasikan strategi pencegahan penyakit stroke di Indonesia, maka penyakit stroke tidak menjadi penyebab kematian no 1 di Indonesia atau dapat dikatakan terjadi penurunan terhadap kematian sebagai akibat dari penyakit stroke.\\n=================================================\\n'"
      ]
     },
     "execution_count": 1,
     "metadata": {},
     "output_type": "execute_result"
    }
   ],
   "source": [
    "'''\n",
    "=================================================\n",
    "Milestone 1\n",
    "\n",
    "Nama  : Kelvin Rizky Novsa\n",
    "Batch : RMT-028\n",
    "\n",
    "Analisa ini digunakan untuk mengatasi tingkat kematian akibat penyakit stroke \n",
    "berdasarkan faktor-faktor yang memengaruhi dan strategi pencegahan penyakit stroke di Indonesia. \n",
    "Adapun dataset yang digunakan bersumber dari kaggle dengan nama dataset \"Stroke Prediction Dataset\". \n",
    "Dengan menganalisis faktor-faktor yang memengaruhi tersebut dan mengimplementasikan strategi pencegahan penyakit stroke di Indonesia, \n",
    "maka penyakit stroke tidak menjadi penyebab kematian no 1 di Indonesia atau dapat dikatakan terjadi penurunan terhadap kematian \n",
    "sebagai akibat dari penyakit stroke.\n",
    "=================================================\n",
    "'''"
   ]
  },
  {
   "cell_type": "markdown",
   "metadata": {},
   "source": [
    "Link URL dashboard Tableau: https://public.tableau.com/app/profile/kelvin.rizky.novsa.situmorang/viz/Milestonee1/Dashboardd1?publish=yes\n",
    "\n",
    "Nama Dashboard : Dashboard 1"
   ]
  },
  {
   "cell_type": "markdown",
   "metadata": {},
   "source": [
    "# Problem Statement"
   ]
  },
  {
   "cell_type": "markdown",
   "metadata": {},
   "source": [
    "- Latar Belakang\n",
    "\n",
    "Menurut World Health Organization (WHO), penyakit stroke merupakan penyebab kematian kedua di dunia, dengan menyumbang sebesar 11 persen. Menurut Kementerian Kesehatan Republik Indonesia, penyakit stroke menjadi penyebab kematian nomor 1 di Indonesia (sumber : https://fk.ui.ac.id/infosehat/2360-2/). Oleh karena itu, risiko penyakit stroke penting untuk dianalisis berdasarkan faktor-faktor yang dapat menyebabkan stroke dari data pasien, seperti umur, jenis kelamin, riwayat penyakit, dan lain lain agar mendapatkan wawasan tentang penyakit stroke dan mencegah penyakit stroke, mengingat cukup tingginya tingkat kematian penyakit stroke di Indonesia. \n",
    "\n",
    "- Problem Statement\n",
    "\n",
    "Agar dapat mengatasi tingkat kematian akibat penyakit stroke di Indonesia, perlu dilakukan analisis faktor-faktor risiko dan implementasi strategi pencegahan dengan target penurunan 40% dalam waktu 2 tahun, seiring dengan peningkatan kesadaran masyarakat terhadap gaya hidup untuk kesehatan.\n",
    "\n",
    "- Metode SMART\n",
    "\n",
    "Specific: Menurunkan tingkat kematian sebagai akibat dari penyakit stroke di Indonesia dengan cara mencegah atau memitigasi penyakit stroke.\n",
    "\n",
    "Measurable: Adanya penurunan penyebab kematian sebagai akibat dari penyakit stroke di Indonesia sebesar 40%.\n",
    "\n",
    "Achievable: Menganalisa faktor-faktor yang memengaruhi penyebab penyakit stroke dan cara memitigasi faktor-faktor tersebut.\n",
    "\n",
    "Relevant: Mencegah penyakit stroke di Indonesia yang dapat diiringi oleh peningkatan kesadaran masyarakat tentang gaya hidup untuk kesehatan, yang dapat menurunkan penyebab kematian penyakit stroke.\n",
    "\n",
    "Time bound: Dapat mencapai target 40% pada kurun waktu 2 tahun.\n",
    "\n",
    "\n",
    "- Problem breakdown\n",
    "\n",
    "1. Berdasarkan status gender, apakah individu yang merokok memiliki risiko lebih tinggi terkena penyakit stroke daripada non-perokok?\n",
    "\n",
    "2. Bagaimana hubungan antara tipe pekerjaan dan tingkat penyakit stroke berdasarkan rentang usia?\n",
    "\n",
    "3. Daerah dan status pernikahan apa yang memiliki tingkat stroke paling banyak?\n",
    "\n",
    "4. Pada rentang rata-rata glukosa berapa seseorang memiliki risiko tertinggi terkena penyakit stroke?\n",
    "\n",
    "5. Apakah terdapat perbedaan rata-rata BMI antara gender yang memiliki risiko tertinggi terkena penyakit stroke?\n",
    "\n",
    "6. Apakah seseorang yang menderita hipertensi dan penyakit jantung memiliki risiko lebih tinggi terkena penyakit stroke?\n",
    "\n"
   ]
  },
  {
   "cell_type": "markdown",
   "metadata": {},
   "source": [
    "# Data Loading"
   ]
  },
  {
   "cell_type": "markdown",
   "metadata": {},
   "source": [
    "Dalam tahapan ini, hal yang dilakukan adalah melakukan import library yang akan digunakan dalam membantu analisis data. Kemudian melakukan import data csv yang berisikan dataset yang sudah ditentukan. Kemudian, menampilkan informasi tentang summary data pada dataset."
   ]
  },
  {
   "cell_type": "markdown",
   "metadata": {},
   "source": [
    "Link kaggle tentang dataset STROKE : https://www.kaggle.com/datasets/fedesoriano/stroke-prediction-dataset/data"
   ]
  },
  {
   "cell_type": "code",
   "execution_count": 34,
   "metadata": {},
   "outputs": [],
   "source": [
    "# Memanggil library yang dibutuhkan\n",
    "\n",
    "import pandas as pd \n",
    "import numpy as np \n",
    "import matplotlib.pyplot as plt \n",
    "import seaborn as sns\n",
    "from scipy import stats\n"
   ]
  },
  {
   "cell_type": "markdown",
   "metadata": {},
   "source": [
    "Melakukan import pandas, numpy, matplotlib, dan seaborn untuk membantu proses analisis data."
   ]
  },
  {
   "cell_type": "code",
   "execution_count": 3,
   "metadata": {},
   "outputs": [
    {
     "data": {
      "text/html": [
       "<div>\n",
       "<style scoped>\n",
       "    .dataframe tbody tr th:only-of-type {\n",
       "        vertical-align: middle;\n",
       "    }\n",
       "\n",
       "    .dataframe tbody tr th {\n",
       "        vertical-align: top;\n",
       "    }\n",
       "\n",
       "    .dataframe thead th {\n",
       "        text-align: right;\n",
       "    }\n",
       "</style>\n",
       "<table border=\"1\" class=\"dataframe\">\n",
       "  <thead>\n",
       "    <tr style=\"text-align: right;\">\n",
       "      <th></th>\n",
       "      <th>id</th>\n",
       "      <th>gender</th>\n",
       "      <th>age</th>\n",
       "      <th>hypertension</th>\n",
       "      <th>heart_disease</th>\n",
       "      <th>ever_married</th>\n",
       "      <th>work_type</th>\n",
       "      <th>Residence_type</th>\n",
       "      <th>avg_glucose_level</th>\n",
       "      <th>bmi</th>\n",
       "      <th>smoking_status</th>\n",
       "      <th>stroke</th>\n",
       "    </tr>\n",
       "  </thead>\n",
       "  <tbody>\n",
       "    <tr>\n",
       "      <th>0</th>\n",
       "      <td>9046</td>\n",
       "      <td>Male</td>\n",
       "      <td>67.0</td>\n",
       "      <td>0</td>\n",
       "      <td>1</td>\n",
       "      <td>Yes</td>\n",
       "      <td>Private</td>\n",
       "      <td>Urban</td>\n",
       "      <td>228.69</td>\n",
       "      <td>36.6</td>\n",
       "      <td>formerly smoked</td>\n",
       "      <td>1</td>\n",
       "    </tr>\n",
       "    <tr>\n",
       "      <th>1</th>\n",
       "      <td>51676</td>\n",
       "      <td>Female</td>\n",
       "      <td>61.0</td>\n",
       "      <td>0</td>\n",
       "      <td>0</td>\n",
       "      <td>Yes</td>\n",
       "      <td>Self-employed</td>\n",
       "      <td>Rural</td>\n",
       "      <td>202.21</td>\n",
       "      <td>NaN</td>\n",
       "      <td>never smoked</td>\n",
       "      <td>1</td>\n",
       "    </tr>\n",
       "    <tr>\n",
       "      <th>2</th>\n",
       "      <td>31112</td>\n",
       "      <td>Male</td>\n",
       "      <td>80.0</td>\n",
       "      <td>0</td>\n",
       "      <td>1</td>\n",
       "      <td>Yes</td>\n",
       "      <td>Private</td>\n",
       "      <td>Rural</td>\n",
       "      <td>105.92</td>\n",
       "      <td>32.5</td>\n",
       "      <td>never smoked</td>\n",
       "      <td>1</td>\n",
       "    </tr>\n",
       "    <tr>\n",
       "      <th>3</th>\n",
       "      <td>60182</td>\n",
       "      <td>Female</td>\n",
       "      <td>49.0</td>\n",
       "      <td>0</td>\n",
       "      <td>0</td>\n",
       "      <td>Yes</td>\n",
       "      <td>Private</td>\n",
       "      <td>Urban</td>\n",
       "      <td>171.23</td>\n",
       "      <td>34.4</td>\n",
       "      <td>smokes</td>\n",
       "      <td>1</td>\n",
       "    </tr>\n",
       "    <tr>\n",
       "      <th>4</th>\n",
       "      <td>1665</td>\n",
       "      <td>Female</td>\n",
       "      <td>79.0</td>\n",
       "      <td>1</td>\n",
       "      <td>0</td>\n",
       "      <td>Yes</td>\n",
       "      <td>Self-employed</td>\n",
       "      <td>Rural</td>\n",
       "      <td>174.12</td>\n",
       "      <td>24.0</td>\n",
       "      <td>never smoked</td>\n",
       "      <td>1</td>\n",
       "    </tr>\n",
       "    <tr>\n",
       "      <th>...</th>\n",
       "      <td>...</td>\n",
       "      <td>...</td>\n",
       "      <td>...</td>\n",
       "      <td>...</td>\n",
       "      <td>...</td>\n",
       "      <td>...</td>\n",
       "      <td>...</td>\n",
       "      <td>...</td>\n",
       "      <td>...</td>\n",
       "      <td>...</td>\n",
       "      <td>...</td>\n",
       "      <td>...</td>\n",
       "    </tr>\n",
       "    <tr>\n",
       "      <th>5105</th>\n",
       "      <td>18234</td>\n",
       "      <td>Female</td>\n",
       "      <td>80.0</td>\n",
       "      <td>1</td>\n",
       "      <td>0</td>\n",
       "      <td>Yes</td>\n",
       "      <td>Private</td>\n",
       "      <td>Urban</td>\n",
       "      <td>83.75</td>\n",
       "      <td>NaN</td>\n",
       "      <td>never smoked</td>\n",
       "      <td>0</td>\n",
       "    </tr>\n",
       "    <tr>\n",
       "      <th>5106</th>\n",
       "      <td>44873</td>\n",
       "      <td>Female</td>\n",
       "      <td>81.0</td>\n",
       "      <td>0</td>\n",
       "      <td>0</td>\n",
       "      <td>Yes</td>\n",
       "      <td>Self-employed</td>\n",
       "      <td>Urban</td>\n",
       "      <td>125.20</td>\n",
       "      <td>40.0</td>\n",
       "      <td>never smoked</td>\n",
       "      <td>0</td>\n",
       "    </tr>\n",
       "    <tr>\n",
       "      <th>5107</th>\n",
       "      <td>19723</td>\n",
       "      <td>Female</td>\n",
       "      <td>35.0</td>\n",
       "      <td>0</td>\n",
       "      <td>0</td>\n",
       "      <td>Yes</td>\n",
       "      <td>Self-employed</td>\n",
       "      <td>Rural</td>\n",
       "      <td>82.99</td>\n",
       "      <td>30.6</td>\n",
       "      <td>never smoked</td>\n",
       "      <td>0</td>\n",
       "    </tr>\n",
       "    <tr>\n",
       "      <th>5108</th>\n",
       "      <td>37544</td>\n",
       "      <td>Male</td>\n",
       "      <td>51.0</td>\n",
       "      <td>0</td>\n",
       "      <td>0</td>\n",
       "      <td>Yes</td>\n",
       "      <td>Private</td>\n",
       "      <td>Rural</td>\n",
       "      <td>166.29</td>\n",
       "      <td>25.6</td>\n",
       "      <td>formerly smoked</td>\n",
       "      <td>0</td>\n",
       "    </tr>\n",
       "    <tr>\n",
       "      <th>5109</th>\n",
       "      <td>44679</td>\n",
       "      <td>Female</td>\n",
       "      <td>44.0</td>\n",
       "      <td>0</td>\n",
       "      <td>0</td>\n",
       "      <td>Yes</td>\n",
       "      <td>Govt_job</td>\n",
       "      <td>Urban</td>\n",
       "      <td>85.28</td>\n",
       "      <td>26.2</td>\n",
       "      <td>Unknown</td>\n",
       "      <td>0</td>\n",
       "    </tr>\n",
       "  </tbody>\n",
       "</table>\n",
       "<p>5110 rows × 12 columns</p>\n",
       "</div>"
      ],
      "text/plain": [
       "         id  gender   age  hypertension  heart_disease ever_married  \\\n",
       "0      9046    Male  67.0             0              1          Yes   \n",
       "1     51676  Female  61.0             0              0          Yes   \n",
       "2     31112    Male  80.0             0              1          Yes   \n",
       "3     60182  Female  49.0             0              0          Yes   \n",
       "4      1665  Female  79.0             1              0          Yes   \n",
       "...     ...     ...   ...           ...            ...          ...   \n",
       "5105  18234  Female  80.0             1              0          Yes   \n",
       "5106  44873  Female  81.0             0              0          Yes   \n",
       "5107  19723  Female  35.0             0              0          Yes   \n",
       "5108  37544    Male  51.0             0              0          Yes   \n",
       "5109  44679  Female  44.0             0              0          Yes   \n",
       "\n",
       "          work_type Residence_type  avg_glucose_level   bmi   smoking_status  \\\n",
       "0           Private          Urban             228.69  36.6  formerly smoked   \n",
       "1     Self-employed          Rural             202.21   NaN     never smoked   \n",
       "2           Private          Rural             105.92  32.5     never smoked   \n",
       "3           Private          Urban             171.23  34.4           smokes   \n",
       "4     Self-employed          Rural             174.12  24.0     never smoked   \n",
       "...             ...            ...                ...   ...              ...   \n",
       "5105        Private          Urban              83.75   NaN     never smoked   \n",
       "5106  Self-employed          Urban             125.20  40.0     never smoked   \n",
       "5107  Self-employed          Rural              82.99  30.6     never smoked   \n",
       "5108        Private          Rural             166.29  25.6  formerly smoked   \n",
       "5109       Govt_job          Urban              85.28  26.2          Unknown   \n",
       "\n",
       "      stroke  \n",
       "0          1  \n",
       "1          1  \n",
       "2          1  \n",
       "3          1  \n",
       "4          1  \n",
       "...      ...  \n",
       "5105       0  \n",
       "5106       0  \n",
       "5107       0  \n",
       "5108       0  \n",
       "5109       0  \n",
       "\n",
       "[5110 rows x 12 columns]"
      ]
     },
     "execution_count": 3,
     "metadata": {},
     "output_type": "execute_result"
    }
   ],
   "source": [
    "df = pd.read_csv('healthcare-dataset-stroke-data.csv')\n",
    "\n",
    "df"
   ]
  },
  {
   "cell_type": "markdown",
   "metadata": {},
   "source": [
    "Melakukan import data csv dan memasukkannya ke dalam variabel df. Setelahnya melakukan penampilan dataframe untuk melihat apakah import data yang dilakukan berhasil atau tidak."
   ]
  },
  {
   "cell_type": "code",
   "execution_count": 4,
   "metadata": {},
   "outputs": [
    {
     "name": "stdout",
     "output_type": "stream",
     "text": [
      "<class 'pandas.core.frame.DataFrame'>\n",
      "RangeIndex: 5110 entries, 0 to 5109\n",
      "Data columns (total 12 columns):\n",
      " #   Column             Non-Null Count  Dtype  \n",
      "---  ------             --------------  -----  \n",
      " 0   id                 5110 non-null   int64  \n",
      " 1   gender             5110 non-null   object \n",
      " 2   age                5110 non-null   float64\n",
      " 3   hypertension       5110 non-null   int64  \n",
      " 4   heart_disease      5110 non-null   int64  \n",
      " 5   ever_married       5110 non-null   object \n",
      " 6   work_type          5110 non-null   object \n",
      " 7   Residence_type     5110 non-null   object \n",
      " 8   avg_glucose_level  5110 non-null   float64\n",
      " 9   bmi                4909 non-null   float64\n",
      " 10  smoking_status     5110 non-null   object \n",
      " 11  stroke             5110 non-null   int64  \n",
      "dtypes: float64(3), int64(4), object(5)\n",
      "memory usage: 479.2+ KB\n"
     ]
    }
   ],
   "source": [
    "df.info()"
   ]
  },
  {
   "cell_type": "markdown",
   "metadata": {},
   "source": [
    "Menampilkan informasi summary data dataframe untuk mengetahui jumlah baris, jumlah kolom, dan tipe data di setiap kolom."
   ]
  },
  {
   "cell_type": "markdown",
   "metadata": {},
   "source": [
    "# Data Cleaning"
   ]
  },
  {
   "cell_type": "code",
   "execution_count": 5,
   "metadata": {},
   "outputs": [
    {
     "data": {
      "text/plain": [
       "array(['Male', 'Female', 'Other'], dtype=object)"
      ]
     },
     "execution_count": 5,
     "metadata": {},
     "output_type": "execute_result"
    }
   ],
   "source": [
    "df['gender'].unique()"
   ]
  },
  {
   "cell_type": "code",
   "execution_count": 6,
   "metadata": {},
   "outputs": [
    {
     "data": {
      "text/plain": [
       "gender\n",
       "Female    2994\n",
       "Male      2115\n",
       "Other        1\n",
       "Name: count, dtype: int64"
      ]
     },
     "execution_count": 6,
     "metadata": {},
     "output_type": "execute_result"
    }
   ],
   "source": [
    "df['gender'].value_counts()"
   ]
  },
  {
   "cell_type": "code",
   "execution_count": 7,
   "metadata": {},
   "outputs": [],
   "source": [
    "df = df[df['gender'] != 'Other']"
   ]
  },
  {
   "cell_type": "markdown",
   "metadata": {},
   "source": [
    "Melakukan penghapusan baris data yang memiliki nilai atau value 'Other'. Hal tersebut dilakukan karena hanya ingin mendapatkan nilai Male dan Female pada kolom gender."
   ]
  },
  {
   "cell_type": "code",
   "execution_count": 8,
   "metadata": {},
   "outputs": [
    {
     "name": "stdout",
     "output_type": "stream",
     "text": [
      "<class 'pandas.core.frame.DataFrame'>\n",
      "Index: 5109 entries, 0 to 5109\n",
      "Data columns (total 12 columns):\n",
      " #   Column             Non-Null Count  Dtype  \n",
      "---  ------             --------------  -----  \n",
      " 0   id                 5109 non-null   int64  \n",
      " 1   gender             5109 non-null   object \n",
      " 2   age                5109 non-null   float64\n",
      " 3   hypertension       5109 non-null   int64  \n",
      " 4   heart_disease      5109 non-null   int64  \n",
      " 5   ever_married       5109 non-null   object \n",
      " 6   work_type          5109 non-null   object \n",
      " 7   Residence_type     5109 non-null   object \n",
      " 8   avg_glucose_level  5109 non-null   float64\n",
      " 9   bmi                4908 non-null   float64\n",
      " 10  smoking_status     5109 non-null   object \n",
      " 11  stroke             5109 non-null   int64  \n",
      "dtypes: float64(3), int64(4), object(5)\n",
      "memory usage: 518.9+ KB\n"
     ]
    }
   ],
   "source": [
    "df.info()"
   ]
  },
  {
   "cell_type": "code",
   "execution_count": 9,
   "metadata": {},
   "outputs": [
    {
     "data": {
      "text/plain": [
       "array(['Male', 'Female'], dtype=object)"
      ]
     },
     "execution_count": 9,
     "metadata": {},
     "output_type": "execute_result"
    }
   ],
   "source": [
    "df['gender'].unique()"
   ]
  },
  {
   "cell_type": "markdown",
   "metadata": {},
   "source": [
    "Melakukan pengecekan nilai unik yang setelah dilakukan cleaning apakah berhasil atau tidak. Berdasarkan hasil output diatas, nilai 'Other' berhasil dihilangkan."
   ]
  },
  {
   "cell_type": "code",
   "execution_count": 10,
   "metadata": {},
   "outputs": [
    {
     "data": {
      "text/plain": [
       "array([36.6,  nan, 32.5, 34.4, 24. , 29. , 27.4, 22.8, 24.2, 29.7, 36.8,\n",
       "       27.3, 28.2, 30.9, 37.5, 25.8, 37.8, 22.4, 48.9, 26.6, 27.2, 23.5,\n",
       "       28.3, 44.2, 25.4, 22.2, 30.5, 26.5, 33.7, 23.1, 32. , 29.9, 23.9,\n",
       "       28.5, 26.4, 20.2, 33.6, 38.6, 39.2, 27.7, 31.4, 36.5, 33.2, 32.8,\n",
       "       40.4, 25.3, 30.2, 47.5, 20.3, 30. , 28.9, 28.1, 31.1, 21.7, 27. ,\n",
       "       24.1, 45.9, 44.1, 22.9, 29.1, 32.3, 41.1, 25.6, 29.8, 26.3, 26.2,\n",
       "       29.4, 24.4, 28. , 28.8, 34.6, 19.4, 30.3, 41.5, 22.6, 56.6, 27.1,\n",
       "       31.3, 31. , 31.7, 35.8, 28.4, 20.1, 26.7, 38.7, 34.9, 25. , 23.8,\n",
       "       21.8, 27.5, 24.6, 32.9, 26.1, 31.9, 34.1, 36.9, 37.3, 45.7, 34.2,\n",
       "       23.6, 22.3, 37.1, 45. , 25.5, 30.8, 37.4, 34.5, 27.9, 29.5, 46. ,\n",
       "       42.5, 35.5, 26.9, 45.5, 31.5, 33. , 23.4, 30.7, 20.5, 21.5, 40. ,\n",
       "       28.6, 42.2, 29.6, 35.4, 16.9, 26.8, 39.3, 32.6, 35.9, 21.2, 42.4,\n",
       "       40.5, 36.7, 29.3, 19.6, 18. , 17.6, 19.1, 50.1, 17.7, 54.6, 35. ,\n",
       "       22. , 39.4, 19.7, 22.5, 25.2, 41.8, 60.9, 23.7, 24.5, 31.2, 16. ,\n",
       "       31.6, 25.1, 24.8, 18.3, 20. , 19.5, 36. , 35.3, 40.1, 43.1, 21.4,\n",
       "       34.3, 27.6, 16.5, 24.3, 25.7, 21.9, 38.4, 25.9, 54.7, 18.6, 24.9,\n",
       "       48.2, 20.7, 39.5, 23.3, 64.8, 35.1, 43.6, 21. , 47.3, 16.6, 21.6,\n",
       "       15.5, 35.6, 16.7, 41.9, 16.4, 17.1, 29.2, 37.9, 44.6, 39.6, 40.3,\n",
       "       41.6, 39. , 23.2, 18.9, 36.1, 36.3, 46.5, 16.8, 46.6, 35.2, 20.9,\n",
       "       13.8, 31.8, 15.3, 38.2, 45.2, 17. , 49.8, 27.8, 60.2, 23. , 22.1,\n",
       "       26. , 44.3, 51. , 39.7, 34.7, 21.3, 41.2, 34.8, 19.2, 35.7, 40.8,\n",
       "       24.7, 19. , 32.4, 34. , 28.7, 32.1, 51.5, 20.4, 30.6, 71.9, 19.3,\n",
       "       40.9, 17.2, 16.1, 16.2, 40.6, 18.4, 21.1, 42.3, 32.2, 50.2, 17.5,\n",
       "       18.7, 42.1, 47.8, 20.8, 30.1, 17.3, 36.4, 12. , 36.2, 55.7, 14.4,\n",
       "       43. , 41.7, 33.8, 43.9, 22.7, 57.5, 37. , 38.5, 16.3, 44. , 32.7,\n",
       "       54.2, 40.2, 33.3, 17.4, 41.3, 52.3, 14.6, 17.8, 46.1, 33.1, 18.1,\n",
       "       43.8, 50.3, 38.9, 43.7, 39.9, 15.9, 19.8, 12.3, 78. , 38.3, 41. ,\n",
       "       42.6, 43.4, 15.1, 20.6, 33.5, 43.2, 30.4, 38. , 33.4, 44.9, 44.7,\n",
       "       37.6, 39.8, 53.4, 55.2, 42. , 37.2, 42.8, 18.8, 42.9, 14.3, 37.7,\n",
       "       48.4, 50.6, 46.2, 49.5, 43.3, 33.9, 18.5, 44.5, 45.4, 55. , 54.8,\n",
       "       19.9, 17.9, 15.6, 52.8, 15.2, 66.8, 55.1, 18.2, 48.5, 55.9, 57.3,\n",
       "       10.3, 14.1, 15.7, 56. , 44.8, 13.4, 51.8, 38.1, 57.7, 44.4, 38.8,\n",
       "       49.3, 39.1, 54. , 56.1, 97.6, 53.9, 13.7, 11.5, 41.4, 14.2, 49.4,\n",
       "       15.4, 45.1, 49.2, 48.7, 53.8, 42.7, 48.8, 52.7, 53.5, 50.5, 15.8,\n",
       "       45.3, 14.8, 51.9, 63.3, 40.7, 61.2, 48. , 46.8, 48.3, 58.1, 50.4,\n",
       "       11.3, 12.8, 13.5, 14.5, 15. , 59.7, 47.4, 52.5, 13.2, 52.9, 61.6,\n",
       "       49.9, 54.3, 47.9, 13. , 13.9, 50.9, 57.2, 64.4, 92. , 50.8, 57.9,\n",
       "       45.8, 47.6, 14. , 46.4, 46.9, 47.1, 13.3, 48.1, 51.7, 46.3, 54.1,\n",
       "       14.9])"
      ]
     },
     "execution_count": 10,
     "metadata": {},
     "output_type": "execute_result"
    }
   ],
   "source": [
    "df['bmi'].unique()"
   ]
  },
  {
   "cell_type": "markdown",
   "metadata": {},
   "source": [
    "Berdasarkan informasi diatas, terdapat sebuah missing value dengan nilai 'NaN. Oleh karena itu perlu dilakukan cleaning data terhadap nilai 'NaN' tersebut."
   ]
  },
  {
   "cell_type": "code",
   "execution_count": 11,
   "metadata": {},
   "outputs": [
    {
     "data": {
      "text/plain": [
       "bmi\n",
       "28.7    41\n",
       "28.4    38\n",
       "26.7    37\n",
       "27.6    37\n",
       "26.1    37\n",
       "        ..\n",
       "48.7     1\n",
       "49.2     1\n",
       "51.0     1\n",
       "49.4     1\n",
       "14.9     1\n",
       "Name: count, Length: 418, dtype: int64"
      ]
     },
     "execution_count": 11,
     "metadata": {},
     "output_type": "execute_result"
    }
   ],
   "source": [
    "df['bmi'].value_counts()"
   ]
  },
  {
   "cell_type": "code",
   "execution_count": 12,
   "metadata": {},
   "outputs": [],
   "source": [
    "df = df.dropna(subset=['bmi'])"
   ]
  },
  {
   "cell_type": "markdown",
   "metadata": {},
   "source": [
    "Melakukan penghapusan baris yang berisi nilai 'missing value' atau dalam hal ini 'NaN' di dalam dataset. Penggunaan subset=['bmi'] digunakan hanya untuk memilih kolom bmi dan dropna() untuk melakukan penghapusan baris yang berisi nilai 'NaN'"
   ]
  },
  {
   "cell_type": "code",
   "execution_count": 13,
   "metadata": {},
   "outputs": [
    {
     "name": "stdout",
     "output_type": "stream",
     "text": [
      "<class 'pandas.core.frame.DataFrame'>\n",
      "Index: 4908 entries, 0 to 5109\n",
      "Data columns (total 12 columns):\n",
      " #   Column             Non-Null Count  Dtype  \n",
      "---  ------             --------------  -----  \n",
      " 0   id                 4908 non-null   int64  \n",
      " 1   gender             4908 non-null   object \n",
      " 2   age                4908 non-null   float64\n",
      " 3   hypertension       4908 non-null   int64  \n",
      " 4   heart_disease      4908 non-null   int64  \n",
      " 5   ever_married       4908 non-null   object \n",
      " 6   work_type          4908 non-null   object \n",
      " 7   Residence_type     4908 non-null   object \n",
      " 8   avg_glucose_level  4908 non-null   float64\n",
      " 9   bmi                4908 non-null   float64\n",
      " 10  smoking_status     4908 non-null   object \n",
      " 11  stroke             4908 non-null   int64  \n",
      "dtypes: float64(3), int64(4), object(5)\n",
      "memory usage: 498.5+ KB\n"
     ]
    }
   ],
   "source": [
    "df.info()"
   ]
  },
  {
   "cell_type": "code",
   "execution_count": 14,
   "metadata": {},
   "outputs": [
    {
     "data": {
      "text/plain": [
       "array(['formerly smoked', 'never smoked', 'smokes', 'Unknown'],\n",
       "      dtype=object)"
      ]
     },
     "execution_count": 14,
     "metadata": {},
     "output_type": "execute_result"
    }
   ],
   "source": [
    "df['smoking_status'].unique()"
   ]
  },
  {
   "cell_type": "markdown",
   "metadata": {},
   "source": [
    "Ingin menampilkan unik data pada kolom smoking_status. Berdasarkan hasil diatas, terdapat 4 nilai unik pada kolom smoking status. Dalam hal ini, terdapat nilai 'Unknown' dimana tidak terdapat makna pada nilai tersebut."
   ]
  },
  {
   "cell_type": "code",
   "execution_count": 15,
   "metadata": {},
   "outputs": [
    {
     "data": {
      "text/plain": [
       "smoking_status\n",
       "never smoked       1852\n",
       "Unknown            1483\n",
       "formerly smoked     836\n",
       "smokes              737\n",
       "Name: count, dtype: int64"
      ]
     },
     "execution_count": 15,
     "metadata": {},
     "output_type": "execute_result"
    }
   ],
   "source": [
    "df['smoking_status'].value_counts()"
   ]
  },
  {
   "cell_type": "markdown",
   "metadata": {},
   "source": [
    "Berdasarkan jumlah nilai unik di dalam kolom smoking_status, nilai Unknown berjumlah 1483. Mengingat besarnya jumlah data 'Unknown, oleh karena itu penghapusan nilai 'Unknown' tidak jadi dilakukan."
   ]
  },
  {
   "cell_type": "code",
   "execution_count": 16,
   "metadata": {},
   "outputs": [],
   "source": [
    "age_group = []\n",
    "\n",
    "for age in df[\"age\"]:\n",
    "  if age <= 5:\n",
    "    age_group.append('Balita')\n",
    "  elif age <= 15:\n",
    "    age_group.append('Anak-anak')\n",
    "  elif age <= 25:\n",
    "    age_group.append('Remaja')\n",
    "  elif age <= 50:\n",
    "    age_group.append('Dewasa')\n",
    "  else:\n",
    "    age_group.append('Lansia')\n",
    "\n",
    "df['age_group'] = age_group"
   ]
  },
  {
   "cell_type": "markdown",
   "metadata": {},
   "source": [
    "Membuat sebuah kolom baru yang bernama age_group. Kolom tersebut untuk mengkategorikan umur di dalam dataset menjadi beberapa kategori untuk mempermudahkan gambaran individu pada rentang umur tertentu. Kemudian, pembentukan kolom ini juga digunakan untuk membantu menjawab problem breakdown nomor 2."
   ]
  },
  {
   "cell_type": "code",
   "execution_count": 17,
   "metadata": {},
   "outputs": [],
   "source": [
    "bmi_group = []\n",
    "\n",
    "for bmi in df[\"bmi\"]:\n",
    "  if age <= 18.5:\n",
    "    bmi_group.append('Berat Badan Kurang')\n",
    "  elif age <= 22.9:\n",
    "    bmi_group.append('Normal')\n",
    "  elif age <= 25:\n",
    "    bmi_group.append('Berat Badan Berlebih')\n",
    "  elif age <= 29.9:\n",
    "    bmi_group.append('Obesitas tingkat 1')\n",
    "  else:\n",
    "    bmi_group.append('Obesitas tingkat 2')\n",
    "\n",
    "df['bmi_group'] = bmi_group"
   ]
  },
  {
   "cell_type": "markdown",
   "metadata": {},
   "source": [
    "Membuat sebuah kolom baru yang bernama bmi_group. Kolom tersebut untuk mengkategorikan body mass index di dalam dataset menjadi beberapa kategori untuk mempermudahkan gambaran individu pada rentang body mass index tertentu. Kategori ini juga dikategorikan berdasarkan body mass index di asia pasifik. Kemudian, pembentukan kolom ini juga digunakan untuk membantu menjawab problem breakdown nomor 5."
   ]
  },
  {
   "cell_type": "code",
   "execution_count": 18,
   "metadata": {},
   "outputs": [],
   "source": [
    "range_avg_glucose_level = []\n",
    "\n",
    "for avg in df[\"avg_glucose_level\"]:\n",
    "    if avg <= 77:\n",
    "        range_avg_glucose_level.append('55.12 - 77')\n",
    "    elif avg <= 99:\n",
    "        range_avg_glucose_level.append('77.01 - 99')\n",
    "    elif avg <= 121:\n",
    "        range_avg_glucose_level.append('99.01 - 121')\n",
    "    elif avg <= 142:\n",
    "        range_avg_glucose_level.append('121.04 - 142')\n",
    "    elif avg <= 164:\n",
    "        range_avg_glucose_level.append('142.02 - 164')\n",
    "    elif avg <= 185:\n",
    "        range_avg_glucose_level.append('164.67 - 185')\n",
    "    elif avg <= 206:\n",
    "        range_avg_glucose_level.append('185.17 - 206')\n",
    "    elif avg <= 228:\n",
    "        range_avg_glucose_level.append('206.09 - 228')\n",
    "    elif avg <= 250:\n",
    "        range_avg_glucose_level.append('228.05 - 250')\n",
    "    else:\n",
    "        range_avg_glucose_level.append('250.2 - 272')\n",
    "\n",
    "df['range_avg_glucose_level'] = range_avg_glucose_level"
   ]
  },
  {
   "cell_type": "markdown",
   "metadata": {},
   "source": [
    "Membuat sebuah kolom baru yang bernama range_avg_glucose_level. Kolom tersebut untuk mengkategorikan rata-rata glukosa dalam darah di dalam dataset menjadi beberapa kategori untuk mempermudahkan gambaran individu pada rentang rata-rata glukosa dalam darah tertentu. Kemudian, pembentukan kolom ini juga digunakan untuk membantu menjawab problem breakdown nomor 4."
   ]
  },
  {
   "cell_type": "code",
   "execution_count": 19,
   "metadata": {},
   "outputs": [
    {
     "name": "stdout",
     "output_type": "stream",
     "text": [
      "<class 'pandas.core.frame.DataFrame'>\n",
      "Index: 4908 entries, 0 to 5109\n",
      "Data columns (total 15 columns):\n",
      " #   Column                   Non-Null Count  Dtype  \n",
      "---  ------                   --------------  -----  \n",
      " 0   id                       4908 non-null   int64  \n",
      " 1   gender                   4908 non-null   object \n",
      " 2   age                      4908 non-null   float64\n",
      " 3   hypertension             4908 non-null   int64  \n",
      " 4   heart_disease            4908 non-null   int64  \n",
      " 5   ever_married             4908 non-null   object \n",
      " 6   work_type                4908 non-null   object \n",
      " 7   Residence_type           4908 non-null   object \n",
      " 8   avg_glucose_level        4908 non-null   float64\n",
      " 9   bmi                      4908 non-null   float64\n",
      " 10  smoking_status           4908 non-null   object \n",
      " 11  stroke                   4908 non-null   int64  \n",
      " 12  age_group                4908 non-null   object \n",
      " 13  bmi_group                4908 non-null   object \n",
      " 14  range_avg_glucose_level  4908 non-null   object \n",
      "dtypes: float64(3), int64(4), object(8)\n",
      "memory usage: 613.5+ KB\n"
     ]
    }
   ],
   "source": [
    "df.info()"
   ]
  },
  {
   "cell_type": "markdown",
   "metadata": {},
   "source": [
    "# Analisis dan Perhitungan"
   ]
  },
  {
   "cell_type": "markdown",
   "metadata": {},
   "source": [
    "## 1. Berdasarkan status gender, apakah individu yang merokok memiliki risiko lebih tinggi terkena penyakit stroke daripada non-perokok?"
   ]
  },
  {
   "cell_type": "code",
   "execution_count": 32,
   "metadata": {},
   "outputs": [
    {
     "data": {
      "image/png": "[encoded data removed]",
      "text/plain": [
       "<Figure size 640x480 with 1 Axes>"
      ]
     },
     "metadata": {},
     "output_type": "display_data"
    }
   ],
   "source": [
    "# Menghitung proporsi stroke berdasarkan gender dan smoking_status\n",
    "stroke_gender_smoking = df.groupby(['gender', 'smoking_status', 'stroke']).size().reset_index(name='jumlah_stroke')\n",
    "\n",
    "# Filter hanya data yang memiliki stroke == 1 (terkena stroke)\n",
    "df_stroke_only = stroke_gender_smoking[stroke_gender_smoking['stroke'] == 1]\n",
    "\n",
    "# Menampilkan bar plot\n",
    "sns.barplot(data=df_stroke_only, x='gender', y='jumlah_stroke', hue='smoking_status', estimator='sum', errorbar=None)\n",
    "plt.title('Tingkat Risiko Stroke Berdasarkan Gender dan Status Perokok')\n",
    "plt.legend(title='Smoking Status', bbox_to_anchor=(1, 1))\n",
    "plt.show()"
   ]
  },
  {
   "cell_type": "markdown",
   "metadata": {},
   "source": [
    "Berdasarkan data diatas dapat disimpulkan bahwa pada gender perempuan yang tidak merokok memiliki risiko terkena penyakit stroke lebih tinggi dibandingkan dengan perempuan yang merokok, baik itu yang dahulu perokok ataupun masih merokok. Dari sisi gender laki-laki, laki-laki yang dahulu merokok memiliki risiko terkena penyakit stroke lebih tinggi jika dibandingkan dengan tidak pernah merokok. Namun, disisi lain laki-laki yang masih merokok memiliki risiko terkena penyakit stroke lebih rendah jika dibandingkan dengan laki-laki yang tidak merokok."
   ]
  },
  {
   "cell_type": "markdown",
   "metadata": {},
   "source": [
    "## 2. Bagaimana hubungan antara tipe pekerjaan dan tingkat penyakit stroke berdasarkan rentang usia?"
   ]
  },
  {
   "cell_type": "code",
   "execution_count": 33,
   "metadata": {},
   "outputs": [
    {
     "data": {
      "image/png": "[encoded data removed]",
      "text/plain": [
       "<Figure size 844x600 with 1 Axes>"
      ]
     },
     "metadata": {},
     "output_type": "display_data"
    }
   ],
   "source": [
    "# Filter hanya data yang memiliki stroke == 1 (terkena stroke)\n",
    "df_stroke_only = df[df['stroke'] == 1]\n",
    "\n",
    "# Menampilkan hubungan antara tipe pekerjaan dan tingkat penyakit stroke berdasarkan rentang usia\n",
    "sns.catplot(x='work_type', hue='age_group', data=df_stroke_only, kind='count', height=6, aspect=1.2, estimator=len)\n",
    "plt.suptitle('Hubungan Antara Tipe Pekerjaan dan Tingkat Penyakit Stroke (Stroke=1) Berdasarkan Rentang Usia', y=1.02)\n",
    "plt.show()"
   ]
  },
  {
   "cell_type": "markdown",
   "metadata": {},
   "source": [
    "Berdasarkan data diatas dapat disimpulkan bahwa tipe pekerjaan yang memiliki risiko tertinggi terkena penyakit stroke berada pada pekerjaan private, yang kemudian disusul oleh wiraswasta dan pekerjaan pemerintahan. Kemudian, pada grup umur tertentu, lansia memiliki risiko penyakit stroke lebih tinggi dibandingkan rentang umur lainnya seperti dewasa dan anak-anak."
   ]
  },
  {
   "cell_type": "markdown",
   "metadata": {},
   "source": [
    "## 3. Daerah dan status pernikahan apa yang memiliki tingkat stroke paling tinggi?"
   ]
  },
  {
   "cell_type": "code",
   "execution_count": 22,
   "metadata": {},
   "outputs": [
    {
     "data": {
      "image/png": "[encoded data removed]",
      "text/plain": [
       "<Figure size 823.736x600 with 1 Axes>"
      ]
     },
     "metadata": {},
     "output_type": "display_data"
    }
   ],
   "source": [
    "# Filter hanya data yang memiliki stroke == 1 (terkena stroke)\n",
    "df_stroke_only = df[df['stroke'] == 1]\n",
    "\n",
    "# Menampilkan hubungan antara tipe pekerjaan dan tingkat penyakit stroke berdasarkan rentang usia\n",
    "sns.catplot(x='Residence_type', hue='ever_married', data=df_stroke_only, kind='count', height=6, aspect=1.2)\n",
    "plt.suptitle('Hubungan Antara Daerah dan Status Pernikahan dengan Tingkat Penyakit Stroke (Stroke=1)', y=1.02)\n",
    "plt.show()"
   ]
  },
  {
   "cell_type": "markdown",
   "metadata": {},
   "source": [
    "Berdasarkan data diatas, dapat disimpulkan bahwa tempat tinggal urban dan rural dengan status sudah atau pernah menikah, tidak memiliki perbedaan pada risiko terkena penyakit stroke yang tinggi. Lebih lanjut jika dilihat status pernikahan belum atau tidak pernah menikah, seseorang yang tinggal di daerah urban lebih memiliki risiko terkena penyakit stroke lebih tinggi dibandingkan dengan rural."
   ]
  },
  {
   "cell_type": "markdown",
   "metadata": {},
   "source": [
    "## 4. Pada rentang rata-rata glukosa berapa seseorang memiliki risiko tertinggi terkena penyakit stroke?"
   ]
  },
  {
   "cell_type": "code",
   "execution_count": 24,
   "metadata": {},
   "outputs": [
    {
     "data": {
      "image/png": "[encoded data removed]",
      "text/plain": [
       "<Figure size 900x600 with 1 Axes>"
      ]
     },
     "metadata": {},
     "output_type": "display_data"
    }
   ],
   "source": [
    "# Filter hanya data yang memiliki stroke == 1 (terkena stroke)\n",
    "df_stroke_only = df[df['stroke'] == 1]\n",
    "\n",
    "# Menampilkan hubungan antara rentang rata-rata glukosa dan tingkat penyakit stroke dengan legenda\n",
    "sns.catplot(x='range_avg_glucose_level', kind='count', data=df_stroke_only, height=6, aspect=1.5, hue='range_avg_glucose_level', width=0.8)\n",
    "plt.title('Hubungan Antara Rentang Rata-rata Glukosa dan Tingkat Penyakit Stroke (Stroke=1)')\n",
    "\n",
    "# Menambahkan legenda\n",
    "plt.legend(title=\"Rentang Rata-rata Glukosa\", title_fontsize='10', bbox_to_anchor=(1, 1), loc='upper left')\n",
    "\n",
    "# Menghilangkan informasi nilai pada sumbu x\n",
    "plt.xticks([], [])\n",
    "plt.show()"
   ]
  },
  {
   "cell_type": "markdown",
   "metadata": {},
   "source": [
    "Berdasarkan informasi diatas, dapat disimpulkan bahwa pada rentang rata-rata glukosa 77.01 - 99 memiliki risiko penyakit stroke lebih tinggi dibandingkan rentang rata-rata glukosa lainnya. Adapun urutan rentang rata-rata glukosa yang memiliki risiko penyakit stroke lebih tinggi setelah rentang rata-rata glukosa 77.01 - 99, adalah rentang rata-rata glukosa 55.12 - 77 dan rentang rata-rata glukosa 99.01 - 121."
   ]
  },
  {
   "cell_type": "markdown",
   "metadata": {},
   "source": [
    "## 5. Apakah terdapat perbedaan rata-rata BMI antara gender yang memiliki risiko tertinggi terkena penyakit stroke?"
   ]
  },
  {
   "cell_type": "code",
   "execution_count": 25,
   "metadata": {},
   "outputs": [
    {
     "name": "stdout",
     "output_type": "stream",
     "text": [
      "gender\n",
      "Female    30.218333\n",
      "Male      30.812360\n",
      "Name: bmi, dtype: float64\n"
     ]
    }
   ],
   "source": [
    "# Filter hanya data yang memiliki stroke == 1 (terkena stroke)\n",
    "df_stroke = df[df['stroke'] == 1]\n",
    "\n",
    "# Menghitung nilai rata-rata BMI berdasarkan gender\n",
    "average_bmi = df_stroke.groupby('gender')['bmi'].mean()\n",
    "\n",
    "# Menampilkan nilai rata-rata BMI\n",
    "print(average_bmi)"
   ]
  },
  {
   "cell_type": "code",
   "execution_count": 26,
   "metadata": {},
   "outputs": [
    {
     "name": "stdout",
     "output_type": "stream",
     "text": [
      "gender\n",
      "Female    29.015952\n",
      "Male      28.547711\n",
      "Name: bmi, dtype: float64\n"
     ]
    }
   ],
   "source": [
    "# Filter hanya data yang memiliki stroke == 1 (terkena stroke)\n",
    "df_non_stroke = df[df['stroke'] == 0]\n",
    "\n",
    "# Menghitung nilai rata-rata BMI berdasarkan gender\n",
    "average_bmi_non_stroke = df_non_stroke.groupby('gender')['bmi'].mean()\n",
    "\n",
    "# Menampilkan nilai rata-rata BMI\n",
    "print(average_bmi_non_stroke)"
   ]
  },
  {
   "cell_type": "markdown",
   "metadata": {},
   "source": [
    "Berdasarkan informasi diatas, dapat disimpulkan bahwa terdapat perbedaan rata-rata BMI antara gender yang memiliki risiko tertinggi terkena penyakit stroke dengan nilai masing-masing pada perempuan sebesar 30.21 dan laki-laki sebesar 20.81. Walapun demikian, perbedaan rata-rata BMI pada perempuan dan laki-laki yang memiliki risiko tertinggi terkena penyakit stroke, tidak terlalu tinggi atau jauh. Kemudian, jika dilihat dari gender yang tidak terkena stroke, walaupun terdapat perbedaan rata-rata BMI pada perempuan dan laki-laki dengan masing-masing nilai sebesar 29.01 atau 28.54, namun perbedaan rata-rata BMI pada perempuan dan laki-laki yang tidak terkena stroke, tidak terlalu tinggi atau jauh"
   ]
  },
  {
   "cell_type": "markdown",
   "metadata": {},
   "source": [
    "## 6. Apakah seseorang yang menderita hipertensi dan penyakit jantung memiliki risiko lebih tinggi terkena penyakit stroke?"
   ]
  },
  {
   "cell_type": "markdown",
   "metadata": {},
   "source": [
    "Menggunakan Confidence Level 95 % atau Critical Value 5%"
   ]
  },
  {
   "cell_type": "markdown",
   "metadata": {},
   "source": [
    "Hubungan antara hipertensi dengan stroke\n",
    "\n",
    "H0 : Tidak adanya hubungan antara hipertensi dan stroke (Individu yang memiliki penyakit hipertensi atau tidak memiliki penyakit hipertensi sama)\n",
    "\n",
    "H1 : Adanya hubungan antara hipertensi dan stroke (Individu yang memiliki penyakit hipertensi atau tidak memiliki penyakit hipertensi berbeda)"
   ]
  },
  {
   "cell_type": "code",
   "execution_count": 27,
   "metadata": {},
   "outputs": [
    {
     "data": {
      "text/html": [
       "<div>\n",
       "<style scoped>\n",
       "    .dataframe tbody tr th:only-of-type {\n",
       "        vertical-align: middle;\n",
       "    }\n",
       "\n",
       "    .dataframe tbody tr th {\n",
       "        vertical-align: top;\n",
       "    }\n",
       "\n",
       "    .dataframe thead th {\n",
       "        text-align: right;\n",
       "    }\n",
       "</style>\n",
       "<table border=\"1\" class=\"dataframe\">\n",
       "  <thead>\n",
       "    <tr style=\"text-align: right;\">\n",
       "      <th>stroke</th>\n",
       "      <th>0</th>\n",
       "      <th>1</th>\n",
       "    </tr>\n",
       "    <tr>\n",
       "      <th>hypertension</th>\n",
       "      <th></th>\n",
       "      <th></th>\n",
       "    </tr>\n",
       "  </thead>\n",
       "  <tbody>\n",
       "    <tr>\n",
       "      <th>0</th>\n",
       "      <td>4308</td>\n",
       "      <td>149</td>\n",
       "    </tr>\n",
       "    <tr>\n",
       "      <th>1</th>\n",
       "      <td>391</td>\n",
       "      <td>60</td>\n",
       "    </tr>\n",
       "  </tbody>\n",
       "</table>\n",
       "</div>"
      ],
      "text/plain": [
       "stroke           0    1\n",
       "hypertension           \n",
       "0             4308  149\n",
       "1              391   60"
      ]
     },
     "execution_count": 27,
     "metadata": {},
     "output_type": "execute_result"
    }
   ],
   "source": [
    "#Contingency Table\n",
    "contingency_table1 = pd.crosstab(df['hypertension'],df['stroke'])\n",
    "contingency_table1"
   ]
  },
  {
   "cell_type": "code",
   "execution_count": 28,
   "metadata": {},
   "outputs": [
    {
     "name": "stdout",
     "output_type": "stream",
     "text": [
      "P-value: 6.143875464115642e-23\n"
     ]
    }
   ],
   "source": [
    "res = stats.chi2_contingency(contingency_table1)\n",
    "print(\"P-value:\",res.pvalue)"
   ]
  },
  {
   "cell_type": "markdown",
   "metadata": {},
   "source": [
    "Dalam hasil analisis diatas, karena p-value (6.143875464115642e-23) < critival value (0.05), oleh karena itu Tolak H0. Artinya, terdapat hubungan hubungan antara hipertensi dan stroke, dimana individu yang memiliki risiko stroke lebih banyak terjadi pada individu yang tidak memiliki penyakit hipertensi."
   ]
  },
  {
   "cell_type": "markdown",
   "metadata": {},
   "source": [
    "Hubungan antara penyakit jantung dengan stroke\n",
    "\n",
    "H0 : Tidak adanya hubungan antara penyakit jantung dan stroke (Individu yang memiliki penyakit penyakit jantung atau tidak memiliki penyakit penyakit jantung sama)\n",
    "\n",
    "H1 : Adanya hubungan antara penyakit jantung dan stroke (Individu yang memiliki penyakit penyakit jantung atau tidak memiliki penyakit penyakit jantung berbeda)"
   ]
  },
  {
   "cell_type": "code",
   "execution_count": 29,
   "metadata": {},
   "outputs": [
    {
     "data": {
      "text/html": [
       "<div>\n",
       "<style scoped>\n",
       "    .dataframe tbody tr th:only-of-type {\n",
       "        vertical-align: middle;\n",
       "    }\n",
       "\n",
       "    .dataframe tbody tr th {\n",
       "        vertical-align: top;\n",
       "    }\n",
       "\n",
       "    .dataframe thead th {\n",
       "        text-align: right;\n",
       "    }\n",
       "</style>\n",
       "<table border=\"1\" class=\"dataframe\">\n",
       "  <thead>\n",
       "    <tr style=\"text-align: right;\">\n",
       "      <th>stroke</th>\n",
       "      <th>0</th>\n",
       "      <th>1</th>\n",
       "    </tr>\n",
       "    <tr>\n",
       "      <th>heart_disease</th>\n",
       "      <th></th>\n",
       "      <th></th>\n",
       "    </tr>\n",
       "  </thead>\n",
       "  <tbody>\n",
       "    <tr>\n",
       "      <th>0</th>\n",
       "      <td>4496</td>\n",
       "      <td>169</td>\n",
       "    </tr>\n",
       "    <tr>\n",
       "      <th>1</th>\n",
       "      <td>203</td>\n",
       "      <td>40</td>\n",
       "    </tr>\n",
       "  </tbody>\n",
       "</table>\n",
       "</div>"
      ],
      "text/plain": [
       "stroke            0    1\n",
       "heart_disease           \n",
       "0              4496  169\n",
       "1               203   40"
      ]
     },
     "execution_count": 29,
     "metadata": {},
     "output_type": "execute_result"
    }
   ],
   "source": [
    "#Contingency Table\n",
    "contingency_table2 = pd.crosstab(df['heart_disease'],df['stroke'])\n",
    "contingency_table2"
   ]
  },
  {
   "cell_type": "code",
   "execution_count": 30,
   "metadata": {},
   "outputs": [
    {
     "name": "stdout",
     "output_type": "stream",
     "text": [
      "P-value: 2.0990170036138994e-21\n"
     ]
    }
   ],
   "source": [
    "res = stats.chi2_contingency(contingency_table2)\n",
    "print(\"P-value:\",res.pvalue)"
   ]
  },
  {
   "cell_type": "markdown",
   "metadata": {},
   "source": [
    "Dalam hasil analisis diatas, karena p-value (2.0990170036138994e-21) < critival value (0.05), oleh karena itu Tolak H0. Artinya, terdapat hubungan hubungan antara penyakit jantung dan stroke, dimana individu yang memiliki risiko stroke lebih banyak terjadi pada individu yang tidak memiliki penyakit penyakit jantung."
   ]
  },
  {
   "cell_type": "markdown",
   "metadata": {},
   "source": [
    "Dengan demikian, baik hipertensi dan penyakit jantung memiliki hubungan antara risiko penyakit stroke."
   ]
  },
  {
   "cell_type": "markdown",
   "metadata": {},
   "source": [
    "Mengimpor data dataset yang sudah dibersihkan dan ditambahkan kolomnya"
   ]
  },
  {
   "cell_type": "code",
   "execution_count": 31,
   "metadata": {},
   "outputs": [],
   "source": [
    "# # export file dataset yang bersih\n",
    "# df.to_csv('dataset_stroke.csv', index=False)"
   ]
  },
  {
   "cell_type": "markdown",
   "metadata": {},
   "source": [
    "# Kesimpulan"
   ]
  },
  {
   "cell_type": "markdown",
   "metadata": {},
   "source": [
    "\n",
    "Kesimpulan dari analisis faktor-faktor risiko penyakit stroke dan implementasi strategi pencegahan di Indonesia adalah sebagai berikut:\n",
    "\n",
    "Berdasarkan analisis data, strategi pencegahan penyakit stroke perlu difokuskan pada:\n",
    "\n",
    "1. Merokok sebagai Faktor Risiko:\n",
    "\n",
    "Perempuan yang tidak merokok memiliki risiko terkena stroke lebih tinggi daripada perempuan yang merokok.\n",
    "Pada laki-laki, yang dahulu merokok memiliki risiko stroke lebih tinggi dibandingkan yang tidak pernah merokok, sedangkan yang masih merokok memiliki risiko lebih rendah dibandingkan yang tidak merokok.\n",
    "Upaya pencegahan perlu difokuskan adalah tingkatkan kampanye anti-merokok, terutama pada perempuan dan mantan perokok laki-laki.\n",
    "\n",
    "2. Tipe Pekerjaan dan Rentang Usia:\n",
    "\n",
    "Pekerjaan di sektor swasta, wiraswasta, dan pekerjaan pemerintahan memiliki risiko tertinggi terkena penyakit stroke.\n",
    "Lansia memiliki risiko penyakit stroke lebih tinggi.\n",
    "Program pencegahan harus disesuaikan dengan jenis pekerjaan dan memperhatikan kelompok usia tertentu, terutama lansia.\n",
    "\n",
    "3. Status Pernikahan dan Lokasi Tempat Tinggal:\n",
    "\n",
    "Tidak ada perbedaan signifikan dalam risiko antara daerah urban dan rural.\n",
    "Status belum menikah di daerah urban memiliki risiko lebih tinggi.\n",
    "Pencegahan harus mencakup kampanye kesadaran kesehatan di daerah urban dan fokus pada individu yang belum menikah.\n",
    "\n",
    "4. Rata-rata Glukosa:\n",
    "\n",
    "Rentang rata-rata glukosa 77.01 - 99 memiliki risiko penyakit stroke lebih tinggi.\n",
    "Pencegahan perlu memasukkan pengelolaan kadar glukosa sebagai bagian dari strategi keseluruhan.\n",
    "\n",
    "5.Perbedaan BMI antara Gender:\n",
    "\n",
    "Terdapat perbedaan rata-rata BMI antara gender, namun perbedaan ini tidak signifikan.\n",
    "Program pencegahan harus mencakup promosi gaya hidup sehat dan manajemen berat badan pada kedua gender.\n",
    "\n",
    "6. Hubungan antara Hipertensi dan Penyakit Jantung dengan Stroke:\n",
    "\n",
    "Terdapat hubungan antara hipertensi dan penyakit jantung dengan risiko penyakit stroke.\n",
    "Pencegahan harus berfokus pada pengelolaan hipertensi dan penyakit jantung sebagai strategi utama.\n",
    "\n",
    "Dengan demikian, langkah-langkah pencegahan yang efektif harus mencakup edukasi masyarakat, program penghentian merokok, manajemen penyakit kronis, dan promosi gaya hidup sehat. Selain itu, perlu kerja sama antara pemerintah, sektor kesehatan, dan masyarakat untuk mencapai target penurunan 40% dalam waktu 2 tahun."
   ]
  }
 ],
 "metadata": {
  "kernelspec": {
   "display_name": "base",
   "language": "python",
   "name": "python3"
  },
  "language_info": {
   "codemirror_mode": {
    "name": "ipython",
    "version": 3
   },
   "file_extension": ".py",
   "mimetype": "text/x-python",
   "name": "python",
   "nbconvert_exporter": "python",
   "pygments_lexer": "ipython3",
   "version": "3.9.18"
  }
 },
 "nbformat": 4,
 "nbformat_minor": 2
}
